{
 "cells": [
  {
   "cell_type": "markdown",
   "id": "e3922c02",
   "metadata": {},
   "source": [
    "# Pyspark -Installing-Loading Dataset:"
   ]
  },
  {
   "cell_type": "code",
   "execution_count": 22,
   "id": "734e3861",
   "metadata": {},
   "outputs": [
    {
     "name": "stdout",
     "output_type": "stream",
     "text": [
      "Requirement already satisfied: pyspark in c:\\users\\hema\\onedrive\\desktop\\vir\\.env\\lib\\site-packages (3.2.0)\n",
      "Requirement already satisfied: py4j==0.10.9.2 in c:\\users\\hema\\onedrive\\desktop\\vir\\.env\\lib\\site-packages (from pyspark) (0.10.9.2)\n"
     ]
    },
    {
     "name": "stderr",
     "output_type": "stream",
     "text": [
      "WARNING: You are using pip version 21.2.3; however, version 21.3.1 is available.\n",
      "You should consider upgrading via the 'C:\\Users\\Hema\\OneDrive\\Desktop\\vir\\.env\\Scripts\\python.exe -m pip install --upgrade pip' command.\n"
     ]
    }
   ],
   "source": [
    "!pip install pyspark"
   ]
  },
  {
   "cell_type": "code",
   "execution_count": 23,
   "id": "b1a471bb",
   "metadata": {},
   "outputs": [],
   "source": [
    "import pyspark"
   ]
  },
  {
   "cell_type": "code",
   "execution_count": 24,
   "id": "4a6688a5",
   "metadata": {},
   "outputs": [],
   "source": [
    "from pyspark.sql import SparkSession"
   ]
  },
  {
   "cell_type": "code",
   "execution_count": 27,
   "id": "308eb6d9",
   "metadata": {},
   "outputs": [],
   "source": [
    "# If we are using inside virtual environment:(mention this)\n",
    "import os\n",
    "os.environ[\"JAVA_HOME\"] = \"C:\\Program Files\\Java\\jdk1.8.0_281\"\n",
    "os.environ[\"PATH\"] = os.environ[\"JAVA_HOME\"] + \"/bin:\" + os.environ[\"PATH\"]"
   ]
  },
  {
   "cell_type": "code",
   "execution_count": 28,
   "id": "96c30758",
   "metadata": {},
   "outputs": [],
   "source": [
    "spark=SparkSession.builder.appName('Practise').getOrCreate()"
   ]
  },
  {
   "cell_type": "code",
   "execution_count": 31,
   "id": "01d81d87",
   "metadata": {},
   "outputs": [],
   "source": [
    "#Load Dataset:\n",
    "df=spark.read.csv(r'C:\\Users\\Hema\\Downloads\\winequality-red.csv')"
   ]
  },
  {
   "cell_type": "code",
   "execution_count": 32,
   "id": "77b93246",
   "metadata": {},
   "outputs": [
    {
     "data": {
      "text/plain": [
       "DataFrame[_c0: string, _c1: string, _c2: string, _c3: string, _c4: string, _c5: string, _c6: string, _c7: string, _c8: string, _c9: string, _c10: string, _c11: string]"
      ]
     },
     "execution_count": 32,
     "metadata": {},
     "output_type": "execute_result"
    }
   ],
   "source": [
    "df"
   ]
  },
  {
   "cell_type": "code",
   "execution_count": 33,
   "id": "32e902e6",
   "metadata": {},
   "outputs": [
    {
     "name": "stdout",
     "output_type": "stream",
     "text": [
      "+-------------+----------------+-----------+--------------+---------+-------------------+--------------------+-------+----+---------+-------+-------+\n",
      "|          _c0|             _c1|        _c2|           _c3|      _c4|                _c5|                 _c6|    _c7| _c8|      _c9|   _c10|   _c11|\n",
      "+-------------+----------------+-----------+--------------+---------+-------------------+--------------------+-------+----+---------+-------+-------+\n",
      "|fixed_acidity|volatile_acidity|citric_acid|residual_sugar|chlorides|free_sulfur_dioxide|total_sulfur_dioxide|density|  pH|sulphates|alcohol|quality|\n",
      "|          7.4|             0.7|          0|           1.9|    0.076|                 11|                  34| 0.9978|3.51|     0.56|    9.4|      5|\n",
      "|          7.8|            0.88|          0|           2.6|    0.098|                 25|                  67| 0.9968| 3.2|     0.68|    9.8|      5|\n",
      "|          7.8|            0.76|       0.04|           2.3|    0.092|                 15|                  54|  0.997|3.26|     0.65|    9.8|      5|\n",
      "|         11.2|            0.28|       0.56|           1.9|    0.075|                 17|                  60|  0.998|3.16|     0.58|    9.8|      6|\n",
      "|          7.4|             0.7|          0|           1.9|    0.076|                 11|                  34| 0.9978|3.51|     0.56|    9.4|      5|\n",
      "|          7.4|            0.66|          0|           1.8|    0.075|                 13|                  40| 0.9978|3.51|     0.56|    9.4|      5|\n",
      "|          7.9|             0.6|       0.06|           1.6|    0.069|                 15|                  59| 0.9964| 3.3|     0.46|    9.4|      5|\n",
      "|          7.3|            0.65|          0|           1.2|    0.065|                 15|                  21| 0.9946|3.39|     0.47|     10|      7|\n",
      "|          7.8|            0.58|       0.02|             2|    0.073|                  9|                  18| 0.9968|3.36|     0.57|    9.5|      7|\n",
      "|          7.5|             0.5|       0.36|           6.1|    0.071|                 17|                 102| 0.9978|3.35|      0.8|   10.5|      5|\n",
      "|          6.7|            0.58|       0.08|           1.8|    0.097|                 15|                  65| 0.9959|3.28|     0.54|    9.2|      5|\n",
      "|          7.5|             0.5|       0.36|           6.1|    0.071|                 17|                 102| 0.9978|3.35|      0.8|   10.5|      5|\n",
      "|          5.6|           0.615|          0|           1.6|    0.089|                 16|                  59| 0.9943|3.58|     0.52|    9.9|      5|\n",
      "|          7.8|            0.61|       0.29|           1.6|    0.114|                  9|                  29| 0.9974|3.26|     1.56|    9.1|      5|\n",
      "|          8.9|            0.62|       0.18|           3.8|    0.176|                 52|                 145| 0.9986|3.16|     0.88|    9.2|      5|\n",
      "|          8.9|            0.62|       0.19|           3.9|     0.17|                 51|                 148| 0.9986|3.17|     0.93|    9.2|      5|\n",
      "|          8.5|            0.28|       0.56|           1.8|    0.092|                 35|                 103| 0.9969| 3.3|     0.75|   10.5|      7|\n",
      "|          8.1|            0.56|       0.28|           1.7|    0.368|                 16|                  56| 0.9968|3.11|     1.28|    9.3|      5|\n",
      "|          7.4|            0.59|       0.08|           4.4|    0.086|                  6|                  29| 0.9974|3.38|      0.5|      9|      4|\n",
      "+-------------+----------------+-----------+--------------+---------+-------------------+--------------------+-------+----+---------+-------+-------+\n",
      "only showing top 20 rows\n",
      "\n"
     ]
    }
   ],
   "source": [
    "df.show()"
   ]
  },
  {
   "cell_type": "code",
   "execution_count": 34,
   "id": "73f45d4a",
   "metadata": {},
   "outputs": [],
   "source": [
    "# As i want all first row as column names:\n",
    "df=spark.read.option('header','true').csv(r'C:\\Users\\Hema\\Downloads\\winequality-red.csv')"
   ]
  },
  {
   "cell_type": "code",
   "execution_count": 36,
   "id": "9ee74756",
   "metadata": {},
   "outputs": [
    {
     "data": {
      "text/plain": [
       "<bound method DataFrame.show of DataFrame[fixed_acidity: string, volatile_acidity: string, citric_acid: string, residual_sugar: string, chlorides: string, free_sulfur_dioxide: string, total_sulfur_dioxide: string, density: string, pH: string, sulphates: string, alcohol: string, quality: string]>"
      ]
     },
     "execution_count": 36,
     "metadata": {},
     "output_type": "execute_result"
    }
   ],
   "source": [
    "# To visualize:\n",
    "spark.read.option('header','true').csv(r'C:\\Users\\Hema\\Downloads\\winequality-red.csv').show"
   ]
  },
  {
   "cell_type": "code",
   "execution_count": 37,
   "id": "bf0991c5",
   "metadata": {},
   "outputs": [
    {
     "data": {
      "text/plain": [
       "pyspark.sql.dataframe.DataFrame"
      ]
     },
     "execution_count": 37,
     "metadata": {},
     "output_type": "execute_result"
    }
   ],
   "source": [
    "type(df)"
   ]
  },
  {
   "cell_type": "code",
   "execution_count": 38,
   "id": "d8a211d9",
   "metadata": {},
   "outputs": [
    {
     "data": {
      "text/plain": [
       "[Row(fixed_acidity='7.4', volatile_acidity='0.7', citric_acid='0', residual_sugar='1.9', chlorides='0.076', free_sulfur_dioxide='11', total_sulfur_dioxide='34', density='0.9978', pH='3.51', sulphates='0.56', alcohol='9.4', quality='5'),\n",
       " Row(fixed_acidity='7.8', volatile_acidity='0.88', citric_acid='0', residual_sugar='2.6', chlorides='0.098', free_sulfur_dioxide='25', total_sulfur_dioxide='67', density='0.9968', pH='3.2', sulphates='0.68', alcohol='9.8', quality='5'),\n",
       " Row(fixed_acidity='7.8', volatile_acidity='0.76', citric_acid='0.04', residual_sugar='2.3', chlorides='0.092', free_sulfur_dioxide='15', total_sulfur_dioxide='54', density='0.997', pH='3.26', sulphates='0.65', alcohol='9.8', quality='5')]"
      ]
     },
     "execution_count": 38,
     "metadata": {},
     "output_type": "execute_result"
    }
   ],
   "source": [
    "df.head(3)"
   ]
  },
  {
   "cell_type": "code",
   "execution_count": 39,
   "id": "14c03bd9",
   "metadata": {},
   "outputs": [
    {
     "name": "stdout",
     "output_type": "stream",
     "text": [
      "root\n",
      " |-- fixed_acidity: string (nullable = true)\n",
      " |-- volatile_acidity: string (nullable = true)\n",
      " |-- citric_acid: string (nullable = true)\n",
      " |-- residual_sugar: string (nullable = true)\n",
      " |-- chlorides: string (nullable = true)\n",
      " |-- free_sulfur_dioxide: string (nullable = true)\n",
      " |-- total_sulfur_dioxide: string (nullable = true)\n",
      " |-- density: string (nullable = true)\n",
      " |-- pH: string (nullable = true)\n",
      " |-- sulphates: string (nullable = true)\n",
      " |-- alcohol: string (nullable = true)\n",
      " |-- quality: string (nullable = true)\n",
      "\n"
     ]
    }
   ],
   "source": [
    "#More Information:\n",
    "df.printSchema()"
   ]
  },
  {
   "cell_type": "code",
   "execution_count": 40,
   "id": "a14fe08d",
   "metadata": {},
   "outputs": [],
   "source": [
    "# End"
   ]
  }
 ],
 "metadata": {
  "kernelspec": {
   "display_name": "venv1kernel",
   "language": "python",
   "name": "venv1kernel"
  },
  "language_info": {
   "codemirror_mode": {
    "name": "ipython",
    "version": 3
   },
   "file_extension": ".py",
   "mimetype": "text/x-python",
   "name": "python",
   "nbconvert_exporter": "python",
   "pygments_lexer": "ipython3",
   "version": "3.10.0"
  }
 },
 "nbformat": 4,
 "nbformat_minor": 5
}
